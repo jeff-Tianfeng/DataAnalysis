{
 "cells": [
  {
   "cell_type": "code",
   "execution_count": 22,
   "id": "9cfd2cd2-828d-4338-bc52-530a2e15ce2b",
   "metadata": {},
   "outputs": [],
   "source": [
    "import numpy as np\n",
    "from sklearn.preprocessing import MinMaxScaler\n",
    "import matplotlib.pyplot as plt\n",
    "import pandas as pd\n",
    "import json\n",
    "import os\n",
    "import csv\n",
    "import numpy as np\n",
    "import torch\n",
    "import torch.nn as nn\n",
    "import torch.optim as optim\n",
    "import pandas as pd"
   ]
  },
  {
   "cell_type": "code",
   "execution_count": 23,
   "id": "72d7c144-ebbb-4db8-8989-88fb68b1b0f4",
   "metadata": {},
   "outputs": [
    {
     "name": "stdout",
     "output_type": "stream",
     "text": [
      "['GAN.ipynb', '.DS_Store', 'PlayerPerformanceAnalysis.ipynb', 'new_generated.csv', 'score.csv', 'Test1JsonTest.json', 'Test4JsonTest.json', 'Test3JsonTest.json', 'pointDetection.ipynb', 'House.csv', 'Test2JsonTest.json', '.ipynb_checkpoints', 'DataAbstract.ipynb']\n",
      "['Test2JsonTest.json', 'Test3JsonTest.json', 'Test4JsonTest.json', 'Test1JsonTest.json']\n"
     ]
    }
   ],
   "source": [
    "documents = os.listdir('.')\n",
    "print(documents)\n",
    "counter = 0\n",
    "position = 0\n",
    "\n",
    "for element in documents:\n",
    "    if(element.split(\".\")[1] == \"json\"):\n",
    "        counter += 1\n",
    "        \n",
    "filePosition = [0 for i in range(counter)]\n",
    "        \n",
    "for element in documents:\n",
    "        if(element.split(\".\")[1] == \"json\"):\n",
    "            filePosition[counter-1] = element\n",
    "            counter -= 1\n",
    "        \n",
    "        \n",
    "print(filePosition)"
   ]
  },
  {
   "cell_type": "code",
   "execution_count": 24,
   "id": "128f83f6-c9e8-43a4-940f-e003943cc1be",
   "metadata": {},
   "outputs": [],
   "source": [
    "\n",
    "# search for how many times.\n",
    "def searchTimeCheck():\n",
    "    searchCounter = 0;\n",
    "    for i in distance:\n",
    "        if(i == -1):\n",
    "            searchCounter += 1\n",
    "    return searchCounter\n",
    "# calculate average deviation.\n",
    "def calculateAvg(List, deviation):\n",
    "    frameCounter = 0\n",
    "    temp = 0\n",
    "    timeCounter = 0\n",
    "    for j in deviation:\n",
    "        frameCounter += 1\n",
    "        temp += j\n",
    "        if(j == -1):\n",
    "            List[timeCounter] = temp / frameCounter\n",
    "            timeCounter += 1\n",
    "            temp = 0\n",
    "            frameCounter = 0     \n",
    "    return List\n",
    "# calculate max speed in single search.\n",
    "def calculateSpeed(List, distance):\n",
    "    frameCounter = 0\n",
    "    timeCounter = 0\n",
    "    temp = 0\n",
    "    for k in distance:\n",
    "        frameCounter += 1\n",
    "        if (temp < k):\n",
    "            temp = k\n",
    "            frameCounter = 0;\n",
    "        if(k == -1):\n",
    "            List[timeCounter] = temp / frameCounter\n",
    "            timeCounter += 1\n",
    "            temp = 0\n",
    "            frameCounter = 0\n",
    "    return List\n"
   ]
  },
  {
   "cell_type": "code",
   "execution_count": 25,
   "id": "2a93c9ce-338e-41e0-a00f-ea80b347bc18",
   "metadata": {},
   "outputs": [],
   "source": [
    "CoordsAxis = ['(-28,-28)','(-28,0)','(-28,-28)','(-14,-28)','(-14,0)','(-14,28)','(0,-28)','(0,0)'\n",
    "              ,'(0,-28)','(14,-28)','(14,0)','(14,28)','(28,-28)','(28,0)','(28,-28)']\n",
    "\n",
    "ColumnName = [\"Name\",\"point_one_speed\",\"point_one_deviation\",\"point_two_speed\",\"point_two_deviation\",\"point_three_speed\",\"point_three_deviation\",\n",
    "\"point_four_speed\",\"point_four_deviation\",\"point_five_speed\",\"point_five_deviation\",\"point_six_speed\",\"point_six_deviation\",\n",
    "\"point_seven_speed\",\"point_seven_deviation\",\"point_eight_speed\",\"point_eight_deviation\",\"point_nine_speed\",\"point_nine_deviation\",\n",
    "\"point_ten_speed\",\"point_ten_deviation\",\"point_eleven_speed\",\"point_eleven_deviation\",\"point_twelve_speed\",\"point_twelve_deviation\",\n",
    "\"point_thirteen_speed\",\"point_thirteen_deviation\",\"point_fourteen_speed\",\"point_fourteen_deviation\",\"point_fifteen_speed\",\"point_fifteen_deviation\",\"CollectCount\",\"Score\"]\n",
    "\n",
    "fileNumber = len(filePosition)\n",
    "\n",
    "headCounter = 0;\n",
    "\n",
    "with open('score.csv', 'w', newline='') as f:\n",
    "                writer = csv.writer(f)\n",
    "                writer.writerow(ColumnName)\n",
    "    \n",
    "    \n",
    "\n",
    "for number in range(fileNumber):\n",
    "    with open(filePosition[number]) as user_file:\n",
    "        \n",
    "        file_contents = user_file.read()\n",
    "    parsed_json = json.loads(file_contents)\n",
    "    \n",
    "    distance = parsed_json['dataDistanceJS']\n",
    "    deviation = parsed_json['dataAngleJS']\n",
    "    coords = parsed_json['Coords']\n",
    "    coords = coords.split(' ');\n",
    "    name = parsed_json['NickName']\n",
    "    collectCount = parsed_json['foxCollectCountJS']\n",
    "    score = parsed_json['Score']\n",
    "    searchCounter = searchTimeCheck()\n",
    "    avg_ListDistance = [0 for i in range(searchCounter)]\n",
    "    avg_ListDeviation = [0 for i in range(searchCounter)]\n",
    "    avg_ListDistance = calculateSpeed(avg_ListDistance, distance)\n",
    "    avg_ListDeviation = calculateAvg(avg_ListDeviation, deviation)\n",
    "    AxisNumber = len(CoordsAxis)\n",
    "    Child = [0 for i in range(33)]\n",
    "    Child[0] = name\n",
    "    Child[31] = collectCount\n",
    "    Child[32] = score\n",
    "    \n",
    "    for counter in range(searchCounter):\n",
    "        for index in range(AxisNumber):\n",
    "            if(coords[counter] == CoordsAxis[index]):\n",
    "                Child[((2*(index + 1))-1)] = avg_ListDistance[counter]\n",
    "                Child[((2*(index + 1)))] = avg_ListDeviation[counter]\n",
    "    with open('score.csv', 'a', newline='') as f:\n",
    "        writer = csv.writer(f)\n",
    "        writer.writerow(Child)\n",
    "        \n",
    "# Befor using GAN to generate new data, the data preprocessing is of great essential, make sure\n",
    "# all 0 value is substitude by mean value in whole file."
   ]
  },
  {
   "cell_type": "code",
   "execution_count": 5,
   "id": "fc2e7a18-7450-43fe-b274-e3ef576d25aa",
   "metadata": {},
   "outputs": [
    {
     "ename": "FileNotFoundError",
     "evalue": "[Errno 2] No such file or directory: 'generated_data_new.csv'",
     "output_type": "error",
     "traceback": [
      "\u001b[0;31m---------------------------------------------------------------------------\u001b[0m",
      "\u001b[0;31mFileNotFoundError\u001b[0m                         Traceback (most recent call last)",
      "\u001b[0;32m/var/folders/n0/y1w98s3557bd6hkpr97m56dc0000gn/T/ipykernel_73530/1684744371.py\u001b[0m in \u001b[0;36m<module>\u001b[0;34m\u001b[0m\n\u001b[1;32m      1\u001b[0m \u001b[0;31m# delete the second row in csv file\u001b[0m\u001b[0;34m\u001b[0m\u001b[0;34m\u001b[0m\u001b[0m\n\u001b[0;32m----> 2\u001b[0;31m \u001b[0;32mwith\u001b[0m \u001b[0mopen\u001b[0m\u001b[0;34m(\u001b[0m\u001b[0;34m'generated_data_new.csv'\u001b[0m\u001b[0;34m,\u001b[0m \u001b[0;34m'r'\u001b[0m\u001b[0;34m)\u001b[0m \u001b[0;32mas\u001b[0m \u001b[0mfile\u001b[0m\u001b[0;34m:\u001b[0m\u001b[0;34m\u001b[0m\u001b[0;34m\u001b[0m\u001b[0m\n\u001b[0m\u001b[1;32m      3\u001b[0m     \u001b[0mcsv_reader\u001b[0m \u001b[0;34m=\u001b[0m \u001b[0mcsv\u001b[0m\u001b[0;34m.\u001b[0m\u001b[0mreader\u001b[0m\u001b[0;34m(\u001b[0m\u001b[0mfile\u001b[0m\u001b[0;34m)\u001b[0m\u001b[0;34m\u001b[0m\u001b[0;34m\u001b[0m\u001b[0m\n\u001b[1;32m      4\u001b[0m     \u001b[0mrows\u001b[0m \u001b[0;34m=\u001b[0m \u001b[0mlist\u001b[0m\u001b[0;34m(\u001b[0m\u001b[0mcsv_reader\u001b[0m\u001b[0;34m)\u001b[0m\u001b[0;34m\u001b[0m\u001b[0;34m\u001b[0m\u001b[0m\n\u001b[1;32m      5\u001b[0m \u001b[0;34m\u001b[0m\u001b[0m\n",
      "\u001b[0;31mFileNotFoundError\u001b[0m: [Errno 2] No such file or directory: 'generated_data_new.csv'"
     ]
    }
   ],
   "source": [
    "# delete the second row in csv file\n",
    "with open('generated_data_new.csv', 'r') as file:\n",
    "    csv_reader = csv.reader(file)\n",
    "    rows = list(csv_reader)\n",
    "\n",
    "# Remove the second row\n",
    "new_rows = [rows[0]] + rows[2:]\n",
    "\n",
    "# Open the CSV file again, this time with write mode\n",
    "with open('generated_data_new.csv', 'w', newline='') as file:\n",
    "    csv_writer = csv.writer(file)\n",
    "\n",
    "    # Write the remaining rows to the CSV file\n",
    "    for row in new_rows:\n",
    "        csv_writer.writerow(row)"
   ]
  },
  {
   "cell_type": "code",
   "execution_count": null,
   "id": "dce0e44b-bbf3-48c8-bbd2-37a2953584fe",
   "metadata": {},
   "outputs": [],
   "source": []
  },
  {
   "cell_type": "code",
   "execution_count": null,
   "id": "1c936852-45dd-4d28-8a3b-65cc5e257aa0",
   "metadata": {},
   "outputs": [],
   "source": []
  }
 ],
 "metadata": {
  "kernelspec": {
   "display_name": "Python 3 (ipykernel)",
   "language": "python",
   "name": "python3"
  },
  "language_info": {
   "codemirror_mode": {
    "name": "ipython",
    "version": 3
   },
   "file_extension": ".py",
   "mimetype": "text/x-python",
   "name": "python",
   "nbconvert_exporter": "python",
   "pygments_lexer": "ipython3",
   "version": "3.9.12"
  }
 },
 "nbformat": 4,
 "nbformat_minor": 5
}
