{
 "cells": [
  {
   "cell_type": "code",
   "execution_count": 61,
   "id": "e4d641c8-144c-43fd-bcd6-d9b95e7c53d0",
   "metadata": {},
   "outputs": [],
   "source": [
    "from ctgan import CTGAN\n",
    "from tabgan.sampler import OriginalGenerator, GANGenerator\n",
    "import pandas as pd\n",
    "import numpy as np\n",
    "from ctgan import load_demo"
   ]
  },
  {
   "cell_type": "markdown",
   "id": "c61ae138-3afe-4459-9820-e7f861a73c36",
   "metadata": {},
   "source": [
    "@inproceedings{ctgan,\n",
    "  title={Modeling Tabular data using Conditional GAN},\n",
    "  author={Xu, Lei and Skoularidou, Maria and Cuesta-Infante, Alfredo and Veeramachaneni, Kalyan},\n",
    "  booktitle={Advances in Neural Information Processing Systems},\n",
    "  year={2019}\n",
    "}"
   ]
  },
  {
   "cell_type": "code",
   "execution_count": 62,
   "id": "732491c3-6dcc-4ddf-a78f-f04def7fb036",
   "metadata": {},
   "outputs": [
    {
     "data": {
      "text/plain": [
       "point_one_speed              True\n",
       "point_one_deviation          True\n",
       "point_two_speed              True\n",
       "point_two_deviation          True\n",
       "point_three_speed            True\n",
       "point_three_deviation        True\n",
       "point_four_speed             True\n",
       "point_four_deviation         True\n",
       "point_five_speed             True\n",
       "point_five_deviation         True\n",
       "point_six_speed              True\n",
       "point_six_deviation          True\n",
       "point_seven_speed            True\n",
       "point_seven_deviation        True\n",
       "point_eight_speed            True\n",
       "point_eight_deviation        True\n",
       "point_nine_speed             True\n",
       "point_nine_deviation         True\n",
       "point_ten_speed              True\n",
       "point_ten_deviation          True\n",
       "point_eleven_speed           True\n",
       "point_eleven_deviation       True\n",
       "point_twelve_speed           True\n",
       "point_twelve_deviation       True\n",
       "point_thirteen_speed         True\n",
       "point_thirteen_deviation     True\n",
       "point_fourteen_speed         True\n",
       "point_fourteen_deviation     True\n",
       "point_fifteen_speed          True\n",
       "point_fifteen_deviation      True\n",
       "CollectCount                 True\n",
       "Score                       False\n",
       "dtype: bool"
      ]
     },
     "execution_count": 62,
     "metadata": {},
     "output_type": "execute_result"
    }
   ],
   "source": [
    "real_data = pd.read_csv('score_new.csv')\n",
    "real_data.replace(0, None, inplace=True)# replace the 0 (not recorded value) in None (Missing value).\n",
    "real_data.isnull().any()# Check the missing condition."
   ]
  },
  {
   "cell_type": "code",
   "execution_count": 63,
   "id": "1745b40e-e0db-401c-a716-9ba0d178a192",
   "metadata": {},
   "outputs": [
    {
     "name": "stdout",
     "output_type": "stream",
     "text": [
      "point_one_speed\n",
      "point_one_deviation\n",
      "point_two_speed\n",
      "point_two_deviation\n",
      "point_three_speed\n",
      "point_three_deviation\n",
      "point_four_speed\n",
      "point_four_deviation\n",
      "point_five_speed\n",
      "point_five_deviation\n",
      "point_six_speed\n",
      "point_six_deviation\n",
      "point_seven_speed\n",
      "point_seven_deviation\n",
      "point_eight_speed\n",
      "point_eight_deviation\n",
      "point_nine_speed\n",
      "point_nine_deviation\n",
      "point_ten_speed\n",
      "point_ten_deviation\n",
      "point_eleven_speed\n",
      "point_eleven_deviation\n",
      "point_twelve_speed\n",
      "point_twelve_deviation\n",
      "point_thirteen_speed\n",
      "point_thirteen_deviation\n",
      "point_fourteen_speed\n",
      "point_fourteen_deviation\n",
      "point_fifteen_speed\n",
      "point_fifteen_deviation\n",
      "CollectCount\n"
     ]
    }
   ],
   "source": [
    "for i in real_data.columns:\n",
    "    # In turn, the columns are checked for missing values, and if so, they are filled in\n",
    "    if np.any(real_data[i].isnull()) == True:\n",
    "        print(i)\n",
    "        real_data[i].fillna(real_data[i].mean(),inplace = True)"
   ]
  },
  {
   "cell_type": "code",
   "execution_count": 64,
   "id": "1f976230-19d6-454b-ace7-fa57099c73ea",
   "metadata": {},
   "outputs": [],
   "source": [
    "# Names of the columns that are discrete\n",
    "discrete_columns = [\"point_one_speed\",\"point_one_deviation\",\"point_two_speed\",\"point_two_deviation\",\"point_three_speed\",\"point_three_deviation\",\n",
    "\"point_four_speed\",\"point_four_deviation\",\"point_five_speed\",\"point_five_deviation\",\"point_six_speed\",\"point_six_deviation\",\n",
    "\"point_seven_speed\",\"point_seven_deviation\",\"point_eight_speed\",\"point_eight_deviation\",\"point_nine_speed\",\"point_nine_deviation\",\n",
    "\"point_ten_speed\",\"point_ten_deviation\",\"point_eleven_speed\",\"point_eleven_deviation\",\"point_twelve_speed\",\"point_twelve_deviation\",\n",
    "\"point_thirteen_speed\",\"point_thirteen_deviation\",\"point_fourteen_speed\",\"point_fourteen_deviation\",\"point_fifteen_speed\",\"point_fifteen_deviation\",\"CollectCount\",\"Score\"\n",
    "]\n",
    "ctgan = CTGAN(\n",
    "    epochs=100,\n",
    "    # batch_size=128,\n",
    "    discriminator_dim=(256, 256),\n",
    "    generator_dim=(256, 256),\n",
    "    log_frequency=True\n",
    ")\n",
    "ctgan.fit(real_data, discrete_columns)\n",
    "\n",
    "# Create synthetic data\n",
    "synthetic_data = ctgan.sample(100)"
   ]
  },
  {
   "cell_type": "code",
   "execution_count": 65,
   "id": "266698b5-137c-47d4-9a29-5c8bee5dcfdc",
   "metadata": {},
   "outputs": [
    {
     "name": "stdout",
     "output_type": "stream",
     "text": [
      "    point_one_speed  point_one_deviation  point_two_speed  \\\n",
      "0          2.304952            67.578231         1.671445   \n",
      "1          0.841993            19.605067         4.316053   \n",
      "2          2.304952            10.612557         2.167953   \n",
      "3          2.626385            19.605067         1.063544   \n",
      "4          2.304952            67.578231         0.644807   \n",
      "..              ...                  ...              ...   \n",
      "95         1.031261            29.696024         0.644807   \n",
      "96         2.264576            42.846451         1.671445   \n",
      "97         1.232281            42.846451         1.671445   \n",
      "98         1.232281            42.846451         1.063544   \n",
      "99         2.947368            35.074637         1.063544   \n",
      "\n",
      "    point_two_deviation  point_three_speed  point_three_deviation  \\\n",
      "0             67.203442           3.328817               7.440131   \n",
      "1             18.842723           3.328817               7.440131   \n",
      "2             19.372234           2.397268               8.597736   \n",
      "3             17.108218           0.933333               7.440131   \n",
      "4             21.463007           0.889602              51.253763   \n",
      "..                  ...                ...                    ...   \n",
      "95            17.108218           2.105891              18.587631   \n",
      "96            16.046416           4.064117              11.759828   \n",
      "97            31.118245           3.045649               9.590120   \n",
      "98            21.955735           1.193147               9.590120   \n",
      "99            22.168511           4.064117              11.759828   \n",
      "\n",
      "    point_four_speed  point_four_deviation  point_five_speed  \\\n",
      "0           1.615485             12.062834          1.840900   \n",
      "1           1.615485             35.417450          3.325114   \n",
      "2           2.240128             35.417450          0.548671   \n",
      "3           1.118034             34.867388          2.241507   \n",
      "4           2.488554             26.671503          1.339679   \n",
      "..               ...                   ...               ...   \n",
      "95          4.056152             22.609980          4.054002   \n",
      "96          1.118034             19.069361          0.732854   \n",
      "97          1.118034              8.791589          0.451669   \n",
      "98          1.956062             47.421370          1.697801   \n",
      "99          1.956062             34.867388          1.840900   \n",
      "\n",
      "    point_five_deviation  ...  point_twelve_speed  point_twelve_deviation  \\\n",
      "0              15.831452  ...            2.566948               32.016304   \n",
      "1              10.502102  ...            2.256637               96.253725   \n",
      "2              19.235441  ...            3.373056               10.116094   \n",
      "3              21.714633  ...            2.256637               96.253725   \n",
      "4              37.048318  ...            3.488429               28.650617   \n",
      "..                   ...  ...                 ...                     ...   \n",
      "95             19.235441  ...            2.566948                5.956450   \n",
      "96             28.514072  ...            4.862219               10.116094   \n",
      "97             21.714633  ...            1.258426               32.016304   \n",
      "98             15.831452  ...            3.373056               77.289288   \n",
      "99             28.514072  ...            3.488429                9.338154   \n",
      "\n",
      "    point_thirteen_speed  point_thirteen_deviation  point_fourteen_speed  \\\n",
      "0               2.140535                 48.055736              1.418362   \n",
      "1               1.557671                 24.716957              2.041375   \n",
      "2               1.829832                 19.224398              4.154458   \n",
      "3               0.538023                 45.470959              2.475609   \n",
      "4               3.547875                  9.054409              0.903226   \n",
      "..                   ...                       ...                   ...   \n",
      "95              1.829832                 35.727500              2.475609   \n",
      "96              1.829832                 48.055736              2.376477   \n",
      "97              1.829832                 45.470959              4.154458   \n",
      "98              1.446158                 15.160261              2.475609   \n",
      "99              1.197073                 45.470959              0.903226   \n",
      "\n",
      "    point_fourteen_deviation  point_fifteen_speed  point_fifteen_deviation  \\\n",
      "0                  43.491545             1.050675                68.994122   \n",
      "1                  16.334832             2.045960                68.994122   \n",
      "2                  19.459735             3.445704                68.994122   \n",
      "3                  26.609599             2.045960                12.636836   \n",
      "4                  10.498375             2.045960                33.159741   \n",
      "..                       ...                  ...                      ...   \n",
      "95                 26.609599             0.884005                14.114708   \n",
      "96                 78.150463             0.861540                33.159741   \n",
      "97                 78.150463             2.045960                29.600753   \n",
      "98                 38.513477             2.045960                13.561261   \n",
      "99                 16.299818             2.045960                64.344253   \n",
      "\n",
      "    CollectCount  Score  \n",
      "0           15.0     48  \n",
      "1            8.0     42  \n",
      "2           10.0    124  \n",
      "3           22.0    120  \n",
      "4           13.0    114  \n",
      "..           ...    ...  \n",
      "95          18.0    114  \n",
      "96          10.0     68  \n",
      "97           2.0    134  \n",
      "98          21.0    106  \n",
      "99           9.0    114  \n",
      "\n",
      "[100 rows x 32 columns]\n"
     ]
    }
   ],
   "source": [
    "print(synthetic_data)\n",
    "synthetic_data.to_csv('new_generated.csv')"
   ]
  },
  {
   "cell_type": "code",
   "execution_count": 66,
   "id": "fdfb57c9-3a67-4569-8212-fec4b51397ec",
   "metadata": {},
   "outputs": [],
   "source": [
    "# Using judgement criteria to pre-classify the perfromance level.\n",
    "file = pd.read_csv(\"new_generated.csv\")\n",
    "file = file.drop(file.columns[0],axis = 1)\n",
    "file.to_csv('new_generated.csv', index=False)"
   ]
  },
  {
   "cell_type": "code",
   "execution_count": null,
   "id": "6dc53bc9-a227-4c96-b0f8-3619d509aea4",
   "metadata": {},
   "outputs": [],
   "source": []
  },
  {
   "cell_type": "code",
   "execution_count": null,
   "id": "f8df48af-58a1-4522-9b53-9a1a912dcbe9",
   "metadata": {},
   "outputs": [],
   "source": []
  }
 ],
 "metadata": {
  "kernelspec": {
   "display_name": "Python 3 (ipykernel)",
   "language": "python",
   "name": "python3"
  },
  "language_info": {
   "codemirror_mode": {
    "name": "ipython",
    "version": 3
   },
   "file_extension": ".py",
   "mimetype": "text/x-python",
   "name": "python",
   "nbconvert_exporter": "python",
   "pygments_lexer": "ipython3",
   "version": "3.9.12"
  }
 },
 "nbformat": 4,
 "nbformat_minor": 5
}
